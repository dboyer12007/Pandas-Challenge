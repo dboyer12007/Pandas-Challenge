{
 "cells": [
  {
   "cell_type": "code",
   "execution_count": null,
   "id": "5b8e6bca-bbc5-444e-9fd7-afb5046a5efb",
   "metadata": {},
   "outputs": [],
   "source": [
    "# import \n",
    "import pandas as pd\n",
    "from pathlib import Path\n",
    "\n",
    "# Load and read the files\n",
    "school_data_load = Path('Resources', 'schools_complete.csv')\n",
    "student_data_load = Path('Resources', 'students_complete.csv')\n",
    "\n",
    "# Read files\n",
    "school_data = pd.read_csv(school_data_load)\n",
    "student_data = pd.read_csv(student_data_load)\n",
    "\n",
    "# Combine Files into one data set\n",
    "merged_data = pd.merge(student_data, school_data, how='left', on='school_name')\n",
    "merged_data.head()"
   ]
  },
  {
   "cell_type": "code",
   "execution_count": null,
   "id": "0be275f1-3203-4522-8b91-d3f30243d9de",
   "metadata": {},
   "outputs": [],
   "source": [
    "# Count the number of unique schools\n",
    "school_count = merged_data['school_name'].nunique()\n",
    "school_count"
   ]
  },
  {
   "cell_type": "code",
   "execution_count": null,
   "id": "16bc0e23-a1b4-4012-b70b-b438b5263cc0",
   "metadata": {},
   "outputs": [],
   "source": [
    "# Calculate the total number of students\n",
    "student_count = merged_data['student_name'].count()\n",
    "student_count"
   ]
  },
  {
   "cell_type": "code",
   "execution_count": null,
   "id": "0e1e319b-c1c3-45e8-8983-87e3c68e673a",
   "metadata": {},
   "outputs": [],
   "source": [
    "# Calculate the total budget\n",
    "unique_school_budget = merged_data.drop_duplicates(subset='school_name')\n",
    "total_budget = unique_school_budget['budget'].sum()\n",
    "total_budget"
   ]
  },
  {
   "cell_type": "code",
   "execution_count": null,
   "id": "5fb9d850-9122-43c8-ab8c-7180ab653a78",
   "metadata": {},
   "outputs": [],
   "source": [
    "# Calculate the average math score\n",
    "average_math_score = merged_data['math_score'].mean()\n",
    "average_math_score"
   ]
  },
  {
   "cell_type": "code",
   "execution_count": null,
   "id": "210a593b-4769-4ed8-ae28-5b15bea85f3c",
   "metadata": {},
   "outputs": [],
   "source": [
    "# Calculate the average reading score\n",
    "average_reading_score = merged_data['reading_score'].mean()\n",
    "average_reading_score"
   ]
  },
  {
   "cell_type": "code",
   "execution_count": null,
   "id": "5551846f-1f6b-4fa1-bcb6-bf7c6b37a3df",
   "metadata": {},
   "outputs": [],
   "source": [
    "# Students who passed math with a score greater or equal to 70\n",
    "passing_math_count = merged_data[(merged_data[\"math_score\"] >= 70)].count()[\"student_name\"]\n",
    "passing_math_percentage = passing_math_count / float(student_count) * 100\n",
    "passing_math_percentage"
   ]
  },
  {
   "cell_type": "code",
   "execution_count": null,
   "id": "0011c2dc-9c97-44ae-bf2e-1ea51ac5d81a",
   "metadata": {},
   "outputs": [],
   "source": [
    "# Students who passed reading with a score greater than or equal to 70\n",
    "passing_reading_count = merged_data[(merged_data['reading_score'] >= 70)].count()['student_name']\n",
    "passing_reading_percentage = passing_reading_count / float(student_count) * 100\n",
    "passing_reading_percentage"
   ]
  },
  {
   "cell_type": "code",
   "execution_count": null,
   "id": "3aadabb9-3c2a-4682-b7f5-585d585bfea5",
   "metadata": {},
   "outputs": [],
   "source": [
    "# Percentage of Students who passed math and reading\n",
    "passing_math_reading_count = merged_data[\n",
    "    (merged_data[\"math_score\"] >= 70) & (merged_data[\"reading_score\"] >= 70)\n",
    "].count()[\"student_name\"]\n",
    "overall_passing_rate = passing_math_reading_count /  float(student_count) * 100\n",
    "overall_passing_rate"
   ]
  },
  {
   "cell_type": "code",
   "execution_count": null,
   "id": "4b2a77d6-19a1-454d-969e-53a5028fb23e",
   "metadata": {},
   "outputs": [],
   "source": [
    "# Key district metrics\n",
    "district_summary = {\n",
    "    'Metric': [\n",
    "        'Total Schools', 'Total Students', 'Total Budget',\n",
    "        'Average Math Score', 'Average Reading Score', \n",
    "        '% Passing Math', '% Passing Reading', '% Overall Passing'],\n",
    "    'Value': [\n",
    "        school_count, student_count, total_budget, \n",
    "        average_math_score, average_reading_score, \n",
    "        passing_math_percentage, passing_reading_percentage, overall_passing_rate]}\n",
    "\n",
    "\n",
    "\n",
    "#Display the Dataframe\n",
    "district_summary_df\n",
    "\n",
    "# Formatting\n",
    "district_summary[\"Total Students\"] = district_summary[\"Total Students\"].map(\"{:,}\".format)\n",
    "district_summary[\"Total Budget\"] = district_summary[\"Total Budget\"].map(\"${:,.2f}\".format)\n",
    "\n",
    "district_summary\n"
   ]
  }
 ],
 "metadata": {
  "kernelspec": {
   "display_name": "Python 3 (ipykernel)",
   "language": "python",
   "name": "python3"
  },
  "language_info": {
   "codemirror_mode": {
    "name": "ipython",
    "version": 3
   },
   "file_extension": ".py",
   "mimetype": "text/x-python",
   "name": "python",
   "nbconvert_exporter": "python",
   "pygments_lexer": "ipython3",
   "version": "3.10.14"
  }
 },
 "nbformat": 4,
 "nbformat_minor": 5
}
